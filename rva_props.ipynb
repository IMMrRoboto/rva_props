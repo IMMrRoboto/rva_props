{
 "cells": [
  {
   "cell_type": "code",
   "execution_count": 1,
   "metadata": {
    "collapsed": true
   },
   "outputs": [],
   "source": [
    "import numpy as np\n",
    "import pandas as pd\n",
    "\n",
    "from helper import *"
   ]
  },
  {
   "cell_type": "code",
   "execution_count": 2,
   "metadata": {
    "collapsed": true
   },
   "outputs": [],
   "source": [
    "pd.set_option('display.max_columns', None)"
   ]
  },
  {
   "cell_type": "code",
   "execution_count": 5,
   "metadata": {
    "collapsed": true
   },
   "outputs": [],
   "source": [
    "path_ass_hist = \"./assets/Property_Assessment_History.csv\"\n",
    "path_ass_cur = \"./assets/Property_Assessments_Current.csv\"\n",
    "path_geo = \"./assets/Parcel_Geographic_Summary.csv\"\n",
    "path_prop_type = \"./assets/prop_class.csv\""
   ]
  },
  {
   "cell_type": "code",
   "execution_count": 6,
   "metadata": {
    "collapsed": true
   },
   "outputs": [],
   "source": [
    "df_ass_hist = pd.read_csv(path_ass_hist, header=0, low_memory=False)\n",
    "df_ass_cur = pd.read_csv(path_ass_cur, header=0, low_memory=False)\n",
    "df_geo = pd.read_csv(path_geo, header=0, low_memory=False)\n",
    "df_pt = pd.read_csv(path_prop_type, header=0, low_memory=False)"
   ]
  },
  {
   "cell_type": "code",
   "execution_count": 7,
   "metadata": {
    "collapsed": true
   },
   "outputs": [],
   "source": [
    "keep_cols_ass_hist = ['PIN','BUILDINGS_ON_PROPERTY_COUNT','STORIES','YEAR_BUILT',\n",
    "                      'SQFT_OF_FINISHED_LIVING_AREA']\n",
    "keep_cols_ass_cur = ['PIN','ADDRESS','LAND_SQFT','ASSESSMENT_DATE','LAND_VALUE','DWELLING_VALUE',\n",
    "                     'TOTAL_VALUE','PROPERTY_CLASSCODE','PROPERTY_CLASS_DESCRIPTION']\n",
    "keep_cols_geo = ['PIN_PIN','CARE_Name','EZ_Name','NGHOOD_Name','ZONING_Name','Location 1']"
   ]
  },
  {
   "cell_type": "code",
   "execution_count": 8,
   "metadata": {
    "collapsed": true
   },
   "outputs": [],
   "source": [
    "df_ass_hist = df_ass_hist[keep_cols_ass_hist].drop_duplicates(keep='first')\n",
    "df_ass_cur = df_ass_cur[keep_cols_ass_cur].drop_duplicates(keep='first')\n",
    "df_geo = df_geo[keep_cols_geo].drop_duplicates(keep='first')"
   ]
  },
  {
   "cell_type": "code",
   "execution_count": 9,
   "metadata": {
    "collapsed": true
   },
   "outputs": [],
   "source": [
    "df_ass = pd.merge(df_ass_cur,df_ass_hist, left_on=['PIN'], right_on=['PIN'], how=\"left\").drop_duplicates(keep='first')"
   ]
  },
  {
   "cell_type": "code",
   "execution_count": 10,
   "metadata": {
    "collapsed": true
   },
   "outputs": [],
   "source": [
    "df = pd.merge(df_ass,df_geo, left_on=['PIN'], right_on=['PIN_PIN'], how=\"left\").drop_duplicates(keep='first')"
   ]
  },
  {
   "cell_type": "code",
   "execution_count": 16,
   "metadata": {},
   "outputs": [],
   "source": [
    "df =  pd.merge(df,df_pt, left_on=['PROPERTY_CLASS_DESCRIPTION'], right_on=['property_class'], how=\"left\")"
   ]
  },
  {
   "cell_type": "code",
   "execution_count": 19,
   "metadata": {
    "collapsed": true
   },
   "outputs": [],
   "source": [
    "df['LAND_VALUE'] = df['LAND_VALUE'].str.slice(1)\n",
    "df['DWELLING_VALUE'] = df['DWELLING_VALUE'].str.slice(1)\n",
    "df['TOTAL_VALUE'] = df['TOTAL_VALUE'].str.slice(1)\n",
    "df['year'] = df['ASSESSMENT_DATE'].str.slice(6,10)\n",
    "df['ez_flag'] = ~df['EZ_Name'].isnull()\n",
    "df['care_flag'] = ~df['CARE_Name'].isnull()\n",
    "df['lat']=df['Location 1'].str.slice(1,10)\n",
    "df['lon']=df['Location 1'].str.slice(11,-1)\n",
    "df = changeToNumeric(df, ['year', 'LAND_VALUE', 'DWELLING_VALUE', 'TOTAL_VALUE', 'STORIES','lat','lon'])"
   ]
  },
  {
   "cell_type": "code",
   "execution_count": 20,
   "metadata": {
    "collapsed": true
   },
   "outputs": [],
   "source": [
    "df = df.drop(['PIN_PIN','Location 1','ASSESSMENT_DATE','property_class'],axis=1)"
   ]
  },
  {
   "cell_type": "code",
   "execution_count": 21,
   "metadata": {
    "collapsed": true
   },
   "outputs": [],
   "source": [
    "df['SQFT_OF_FINISHED_LIVING_AREA'] = df['SQFT_OF_FINISHED_LIVING_AREA'].fillna(0)"
   ]
  },
  {
   "cell_type": "code",
   "execution_count": 22,
   "metadata": {
    "collapsed": true
   },
   "outputs": [],
   "source": [
    "df = df.sort_values(['SQFT_OF_FINISHED_LIVING_AREA'], ascending=False)\\\n",
    "    .drop_duplicates('PIN',keep=\"first\").reset_index(drop=True)"
   ]
  },
  {
   "cell_type": "code",
   "execution_count": 23,
   "metadata": {
    "scrolled": true
   },
   "outputs": [
    {
     "name": "stderr",
     "output_type": "stream",
     "text": [
      "/home/connor/apps/anaconda3/envs/realestate/lib/python3.6/site-packages/ipykernel_launcher.py:1: SettingWithCopyWarning: \n",
      "A value is trying to be set on a copy of a slice from a DataFrame\n",
      "\n",
      "See the caveats in the documentation: http://pandas.pydata.org/pandas-docs/stable/indexing.html#indexing-view-versus-copy\n",
      "  \"\"\"Entry point for launching an IPython kernel.\n"
     ]
    }
   ],
   "source": [
    "df.YEAR_BUILT[df.YEAR_BUILT == 1625] = 1925"
   ]
  },
  {
   "cell_type": "code",
   "execution_count": 24,
   "metadata": {},
   "outputs": [
    {
     "name": "stderr",
     "output_type": "stream",
     "text": [
      "/home/connor/apps/anaconda3/envs/realestate/lib/python3.6/site-packages/ipykernel_launcher.py:1: SettingWithCopyWarning: \n",
      "A value is trying to be set on a copy of a slice from a DataFrame\n",
      "\n",
      "See the caveats in the documentation: http://pandas.pydata.org/pandas-docs/stable/indexing.html#indexing-view-versus-copy\n",
      "  \"\"\"Entry point for launching an IPython kernel.\n",
      "/home/connor/apps/anaconda3/envs/realestate/lib/python3.6/site-packages/ipykernel_launcher.py:2: SettingWithCopyWarning: \n",
      "A value is trying to be set on a copy of a slice from a DataFrame\n",
      "\n",
      "See the caveats in the documentation: http://pandas.pydata.org/pandas-docs/stable/indexing.html#indexing-view-versus-copy\n",
      "  \n",
      "/home/connor/apps/anaconda3/envs/realestate/lib/python3.6/site-packages/ipykernel_launcher.py:3: SettingWithCopyWarning: \n",
      "A value is trying to be set on a copy of a slice from a DataFrame\n",
      "\n",
      "See the caveats in the documentation: http://pandas.pydata.org/pandas-docs/stable/indexing.html#indexing-view-versus-copy\n",
      "  This is separate from the ipykernel package so we can avoid doing imports until\n"
     ]
    }
   ],
   "source": [
    "df.lon[df.lon > 0] = -df.lon\n",
    "df.lon[df.lon > -1] = df.lon - 77\n",
    "df.lon[df.lon > -8] = df.lon - 70"
   ]
  },
  {
   "cell_type": "code",
   "execution_count": 25,
   "metadata": {
    "collapsed": true
   },
   "outputs": [],
   "source": [
    "savePickle(df, pickleName=\"rva_bldgs_nov_2017.p\")"
   ]
  },
  {
   "cell_type": "code",
   "execution_count": 26,
   "metadata": {
    "collapsed": true
   },
   "outputs": [],
   "source": [
    "df_old = df[df['YEAR_BUILT']<=1920] \n",
    "df_old = df_old[df_old['YEAR_BUILT'] > 1191]"
   ]
  },
  {
   "cell_type": "code",
   "execution_count": 27,
   "metadata": {
    "collapsed": true
   },
   "outputs": [],
   "source": [
    "savePickle(df_old, pickleName=\"df_old.p\")"
   ]
  },
  {
   "cell_type": "code",
   "execution_count": 29,
   "metadata": {},
   "outputs": [
    {
     "data": {
      "text/plain": [
       "918      1720.0\n",
       "11937    1725.0\n",
       "2677     1735.0\n",
       "46516    1737.0\n",
       "4387     1745.0\n",
       "Name: YEAR_BUILT, dtype: float64"
      ]
     },
     "execution_count": 29,
     "metadata": {},
     "output_type": "execute_result"
    }
   ],
   "source": [
    "df_old['YEAR_BUILT'].nsmallest(5)"
   ]
  },
  {
   "cell_type": "code",
   "execution_count": null,
   "metadata": {},
   "outputs": [],
   "source": [
    "df_old[df_old[\"YEAR_BUILT\"]==1735.0]"
   ]
  },
  {
   "cell_type": "code",
   "execution_count": null,
   "metadata": {
    "collapsed": true
   },
   "outputs": [],
   "source": []
  }
 ],
 "metadata": {
  "kernelspec": {
   "display_name": "Python 3",
   "language": "python",
   "name": "python3"
  },
  "language_info": {
   "codemirror_mode": {
    "name": "ipython",
    "version": 3
   },
   "file_extension": ".py",
   "mimetype": "text/x-python",
   "name": "python",
   "nbconvert_exporter": "python",
   "pygments_lexer": "ipython3",
   "version": "3.6.1"
  }
 },
 "nbformat": 4,
 "nbformat_minor": 2
}
