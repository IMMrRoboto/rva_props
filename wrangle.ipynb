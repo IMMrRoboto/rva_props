{
 "cells": [
  {
   "cell_type": "code",
   "execution_count": null,
   "metadata": {
    "collapsed": true
   },
   "outputs": [],
   "source": [
    "#! /usr/bin/env python3"
   ]
  },
  {
   "cell_type": "code",
   "execution_count": null,
   "metadata": {
    "collapsed": true
   },
   "outputs": [],
   "source": [
    "# Author: Connor Riley\n",
    "# Email: connor.riley2@gmail.com\n",
    "#\n",
    "# Richmond Real Estate Tax Assessments Analysis\n",
    "# Version 1.0"
   ]
  },
  {
   "cell_type": "code",
   "execution_count": 1,
   "metadata": {},
   "outputs": [],
   "source": [
    "import numpy as np\n",
    "import pandas as pd\n",
    "#import shapefile\n",
    "import timeit\n",
    "\n",
    "import helper"
   ]
  },
  {
   "cell_type": "code",
   "execution_count": 2,
   "metadata": {
    "collapsed": true
   },
   "outputs": [],
   "source": [
    "pd.set_option('display.max_columns', None)"
   ]
  },
  {
   "cell_type": "code",
   "execution_count": null,
   "metadata": {
    "collapsed": true
   },
   "outputs": [],
   "source": [
    "# years = [2017, 2016, 2015]#df.year.unique().tolist():\n",
    "# setBuckets(df_agg, years,'med_TOTAL_VALUE', 'med_VALUE_Buckets')"
   ]
  },
  {
   "cell_type": "code",
   "execution_count": 3,
   "metadata": {
    "collapsed": true
   },
   "outputs": [],
   "source": [
    "path_ass_hist = \"./assets/Property_Assessment_History.csv\"\n",
    "path_ass_cur = \"./assets/Property_Assessments_Current.csv\"\n",
    "path_tran_hist = \"./assets/Property_Transfer_History.csv\"\n",
    "path_geo = \"./assets/Parcel_Geographic_Summary.csv\"\n",
    "# path3 = \"./assets/Neighborhoods.csv\""
   ]
  },
  {
   "cell_type": "code",
   "execution_count": 4,
   "metadata": {},
   "outputs": [
    {
     "data": {
      "text/plain": [
       "(1418107, 30)"
      ]
     },
     "execution_count": 4,
     "metadata": {},
     "output_type": "execute_result"
    }
   ],
   "source": [
    "df_ass_hist = pd.read_csv(path_ass_hist, header=0, low_memory=False)\n",
    "df_ass_hist.shape"
   ]
  },
  {
   "cell_type": "code",
   "execution_count": 5,
   "metadata": {},
   "outputs": [
    {
     "data": {
      "text/plain": [
       "(1411989, 30)"
      ]
     },
     "execution_count": 5,
     "metadata": {},
     "output_type": "execute_result"
    }
   ],
   "source": [
    "#Removing duplicate \n",
    "#before (1418107, 30)\n",
    "df_ass_hist = df_ass_hist.drop_duplicates()\n",
    "df_ass_hist.shape"
   ]
  },
  {
   "cell_type": "code",
   "execution_count": 6,
   "metadata": {},
   "outputs": [
    {
     "data": {
      "text/plain": [
       "(76393, 35)"
      ]
     },
     "execution_count": 6,
     "metadata": {},
     "output_type": "execute_result"
    }
   ],
   "source": [
    "df_ass_cur = pd.read_csv(path_ass_cur, header=0, low_memory=False)\n",
    "df_ass_cur.shape"
   ]
  },
  {
   "cell_type": "code",
   "execution_count": 7,
   "metadata": {},
   "outputs": [
    {
     "data": {
      "text/plain": [
       "(74407, 35)"
      ]
     },
     "execution_count": 7,
     "metadata": {},
     "output_type": "execute_result"
    }
   ],
   "source": [
    "#Removing duplicate \n",
    "#before (76393, 30)\n",
    "df_ass_cur = df_ass_cur.drop_duplicates()\n",
    "df_ass_cur.shape"
   ]
  },
  {
   "cell_type": "code",
   "execution_count": 8,
   "metadata": {
    "collapsed": true
   },
   "outputs": [],
   "source": [
    "#get common columns for union\n",
    "frames = [df_ass_hist, df_ass_cur]\n",
    "common_cols = list(set.intersection(*(set(df.columns) for df in frames)))"
   ]
  },
  {
   "cell_type": "code",
   "execution_count": 9,
   "metadata": {
    "collapsed": true
   },
   "outputs": [],
   "source": [
    "df_ass = pd.concat([df[common_cols] for df in frames], ignore_index=True).drop_duplicates()"
   ]
  },
  {
   "cell_type": "code",
   "execution_count": 10,
   "metadata": {},
   "outputs": [
    {
     "data": {
      "text/plain": [
       "(1381970, 24)"
      ]
     },
     "execution_count": 10,
     "metadata": {},
     "output_type": "execute_result"
    }
   ],
   "source": [
    "df_ass.shape"
   ]
  },
  {
   "cell_type": "code",
   "execution_count": 11,
   "metadata": {},
   "outputs": [
    {
     "data": {
      "text/plain": [
       "(266766, 6)"
      ]
     },
     "execution_count": 11,
     "metadata": {},
     "output_type": "execute_result"
    }
   ],
   "source": [
    "df_tran_hist = pd.read_csv(path_tran_hist, header=0, low_memory=False)\n",
    "df_tran_hist.shape"
   ]
  },
  {
   "cell_type": "code",
   "execution_count": 12,
   "metadata": {},
   "outputs": [
    {
     "data": {
      "text/plain": [
       "(266603, 6)"
      ]
     },
     "execution_count": 12,
     "metadata": {},
     "output_type": "execute_result"
    }
   ],
   "source": [
    "#Removing duplicate \n",
    "#before (266766, 30)\n",
    "df_tran_hist = df_tran_hist.drop_duplicates()\n",
    "df_tran_hist.shape"
   ]
  },
  {
   "cell_type": "code",
   "execution_count": 19,
   "metadata": {},
   "outputs": [
    {
     "data": {
      "text/html": [
       "<div>\n",
       "<style>\n",
       "    .dataframe thead tr:only-child th {\n",
       "        text-align: right;\n",
       "    }\n",
       "\n",
       "    .dataframe thead th {\n",
       "        text-align: left;\n",
       "    }\n",
       "\n",
       "    .dataframe tbody tr th {\n",
       "        vertical-align: top;\n",
       "    }\n",
       "</style>\n",
       "<table border=\"1\" class=\"dataframe\">\n",
       "  <thead>\n",
       "    <tr style=\"text-align: right;\">\n",
       "      <th></th>\n",
       "      <th>SPECIAL_ASSESSMENT_DISTRICT</th>\n",
       "      <th>ASSESSMENT_MAILING_ZIP_CODE</th>\n",
       "      <th>PROPERTY_CLASSCODE</th>\n",
       "      <th>AREA_TAX</th>\n",
       "      <th>TOTAL_VALUE</th>\n",
       "      <th>LAND_SQFT</th>\n",
       "      <th>ASSESSMENT_NEIGHBORHOOD_CODE</th>\n",
       "      <th>PIN</th>\n",
       "      <th>ASSESSMENT_MAILING_CITY</th>\n",
       "      <th>STATE_PLANE_X_COORDINATE</th>\n",
       "      <th>ASSESSMENT_MAILING_ADDRESS</th>\n",
       "      <th>SPECIAL_ASSESSMENT_DIST_DESC</th>\n",
       "      <th>Location 1</th>\n",
       "      <th>OWNER_NAME</th>\n",
       "      <th>CORPORATION_ID</th>\n",
       "      <th>ASSESSORS_NEIGHBORHOOD_DESC</th>\n",
       "      <th>STATE_PLANE_Y_COORDINATE</th>\n",
       "      <th>PROPERTY_CLASS_DESCRIPTION</th>\n",
       "      <th>ASSESSMENT_DATE</th>\n",
       "      <th>LAND_VALUE</th>\n",
       "      <th>JURISDICTION_ID</th>\n",
       "      <th>GPIN</th>\n",
       "      <th>DWELLING_VALUE</th>\n",
       "      <th>ASSESSMENT_MAILING_STATE</th>\n",
       "    </tr>\n",
       "  </thead>\n",
       "  <tbody>\n",
       "    <tr>\n",
       "      <th>0</th>\n",
       "      <td>NaN</td>\n",
       "      <td>2322700000</td>\n",
       "      <td>512</td>\n",
       "      <td>NaN</td>\n",
       "      <td>$222700.00</td>\n",
       "      <td>NaN</td>\n",
       "      <td>NaN</td>\n",
       "      <td>N0170235011</td>\n",
       "      <td>RICHMOND</td>\n",
       "      <td>1.178472e+07</td>\n",
       "      <td>4313 FAUQUIER AVE</td>\n",
       "      <td>NaN</td>\n",
       "      <td>(37.59309107, -77.4585498)</td>\n",
       "      <td>RAPPAPORT GREGORY J &amp; ELIZABETH J</td>\n",
       "      <td>NaN</td>\n",
       "      <td>NaN</td>\n",
       "      <td>3.741178e+06</td>\n",
       "      <td>512 Single Family, 2 Story</td>\n",
       "      <td>01/01/2005</td>\n",
       "      <td>$53800.00</td>\n",
       "      <td>NaN</td>\n",
       "      <td>21045.0</td>\n",
       "      <td>$168900.00</td>\n",
       "      <td>VA</td>\n",
       "    </tr>\n",
       "    <tr>\n",
       "      <th>1</th>\n",
       "      <td>NaN</td>\n",
       "      <td>2322500000</td>\n",
       "      <td>468</td>\n",
       "      <td>NaN</td>\n",
       "      <td>$479000.00</td>\n",
       "      <td>NaN</td>\n",
       "      <td>NaN</td>\n",
       "      <td>C0040945026</td>\n",
       "      <td>RICHMOND</td>\n",
       "      <td>1.176883e+07</td>\n",
       "      <td>P O BOX 9014</td>\n",
       "      <td>NaN</td>\n",
       "      <td>(37.53282771, -77.51368659)</td>\n",
       "      <td>GRANITE RECREATION CORP</td>\n",
       "      <td>NaN</td>\n",
       "      <td>NaN</td>\n",
       "      <td>3.719112e+06</td>\n",
       "      <td>B468 Com Community Ctr-Private</td>\n",
       "      <td>01/01/2006</td>\n",
       "      <td>$92700.00</td>\n",
       "      <td>NaN</td>\n",
       "      <td>4031.0</td>\n",
       "      <td>$386300.00</td>\n",
       "      <td>VA</td>\n",
       "    </tr>\n",
       "  </tbody>\n",
       "</table>\n",
       "</div>"
      ],
      "text/plain": [
       "   SPECIAL_ASSESSMENT_DISTRICT ASSESSMENT_MAILING_ZIP_CODE  \\\n",
       "0                          NaN                  2322700000   \n",
       "1                          NaN                  2322500000   \n",
       "\n",
       "   PROPERTY_CLASSCODE AREA_TAX TOTAL_VALUE  LAND_SQFT  \\\n",
       "0                 512      NaN  $222700.00        NaN   \n",
       "1                 468      NaN  $479000.00        NaN   \n",
       "\n",
       "   ASSESSMENT_NEIGHBORHOOD_CODE          PIN ASSESSMENT_MAILING_CITY  \\\n",
       "0                           NaN  N0170235011                RICHMOND   \n",
       "1                           NaN  C0040945026                RICHMOND   \n",
       "\n",
       "   STATE_PLANE_X_COORDINATE ASSESSMENT_MAILING_ADDRESS  \\\n",
       "0              1.178472e+07          4313 FAUQUIER AVE   \n",
       "1              1.176883e+07               P O BOX 9014   \n",
       "\n",
       "  SPECIAL_ASSESSMENT_DIST_DESC                   Location 1  \\\n",
       "0                          NaN   (37.59309107, -77.4585498)   \n",
       "1                          NaN  (37.53282771, -77.51368659)   \n",
       "\n",
       "                          OWNER_NAME  CORPORATION_ID  \\\n",
       "0  RAPPAPORT GREGORY J & ELIZABETH J             NaN   \n",
       "1            GRANITE RECREATION CORP             NaN   \n",
       "\n",
       "  ASSESSORS_NEIGHBORHOOD_DESC  STATE_PLANE_Y_COORDINATE  \\\n",
       "0                         NaN              3.741178e+06   \n",
       "1                         NaN              3.719112e+06   \n",
       "\n",
       "       PROPERTY_CLASS_DESCRIPTION ASSESSMENT_DATE LAND_VALUE  JURISDICTION_ID  \\\n",
       "0      512 Single Family, 2 Story      01/01/2005  $53800.00              NaN   \n",
       "1  B468 Com Community Ctr-Private      01/01/2006  $92700.00              NaN   \n",
       "\n",
       "      GPIN DWELLING_VALUE ASSESSMENT_MAILING_STATE  \n",
       "0  21045.0     $168900.00                       VA  \n",
       "1   4031.0     $386300.00                       VA  "
      ]
     },
     "execution_count": 19,
     "metadata": {},
     "output_type": "execute_result"
    }
   ],
   "source": [
    "df_ass.head(2)"
   ]
  },
  {
   "cell_type": "code",
   "execution_count": 14,
   "metadata": {},
   "outputs": [
    {
     "data": {
      "text/html": [
       "<div>\n",
       "<style>\n",
       "    .dataframe thead tr:only-child th {\n",
       "        text-align: right;\n",
       "    }\n",
       "\n",
       "    .dataframe thead th {\n",
       "        text-align: left;\n",
       "    }\n",
       "\n",
       "    .dataframe tbody tr th {\n",
       "        vertical-align: top;\n",
       "    }\n",
       "</style>\n",
       "<table border=\"1\" class=\"dataframe\">\n",
       "  <thead>\n",
       "    <tr style=\"text-align: right;\">\n",
       "      <th></th>\n",
       "      <th>PIN</th>\n",
       "      <th>SALE_DATE</th>\n",
       "      <th>SALE_AMOUNT</th>\n",
       "      <th>GRANTOR</th>\n",
       "      <th>SALE_REFERENCE_DOCUMENT</th>\n",
       "      <th>VALIDATED_TRANS_DESC</th>\n",
       "    </tr>\n",
       "  </thead>\n",
       "  <tbody>\n",
       "    <tr>\n",
       "      <th>0</th>\n",
       "      <td>S0002486009</td>\n",
       "      <td>11/01/1991</td>\n",
       "      <td>NaN</td>\n",
       "      <td>NaN</td>\n",
       "      <td>000022-00658</td>\n",
       "      <td>NaN</td>\n",
       "    </tr>\n",
       "    <tr>\n",
       "      <th>1</th>\n",
       "      <td>W0000016013B</td>\n",
       "      <td>04/01/2004</td>\n",
       "      <td>$1356000.00</td>\n",
       "      <td>GENERAL ELECTRIC CAPITAL</td>\n",
       "      <td>ID2004-10245</td>\n",
       "      <td>NaN</td>\n",
       "    </tr>\n",
       "  </tbody>\n",
       "</table>\n",
       "</div>"
      ],
      "text/plain": [
       "            PIN   SALE_DATE  SALE_AMOUNT                   GRANTOR  \\\n",
       "0   S0002486009  11/01/1991          NaN                       NaN   \n",
       "1  W0000016013B  04/01/2004  $1356000.00  GENERAL ELECTRIC CAPITAL   \n",
       "\n",
       "  SALE_REFERENCE_DOCUMENT VALIDATED_TRANS_DESC  \n",
       "0            000022-00658                  NaN  \n",
       "1            ID2004-10245                  NaN  "
      ]
     },
     "execution_count": 14,
     "metadata": {},
     "output_type": "execute_result"
    }
   ],
   "source": [
    "df_tran_hist.head(2)"
   ]
  },
  {
   "cell_type": "code",
   "execution_count": 15,
   "metadata": {
    "collapsed": true
   },
   "outputs": [],
   "source": [
    "df_tran_hist['year'] = df_tran_hist['SALE_DATE'].str.slice(6,10)"
   ]
  },
  {
   "cell_type": "code",
   "execution_count": 16,
   "metadata": {},
   "outputs": [
    {
     "data": {
      "text/plain": [
       "(74262, 69)"
      ]
     },
     "execution_count": 16,
     "metadata": {},
     "output_type": "execute_result"
    }
   ],
   "source": [
    "df_geo = pd.read_csv(path_geo, header=0, low_memory=False)\n",
    "df_geo.shape"
   ]
  },
  {
   "cell_type": "code",
   "execution_count": 17,
   "metadata": {},
   "outputs": [
    {
     "data": {
      "text/html": [
       "<div>\n",
       "<style>\n",
       "    .dataframe thead tr:only-child th {\n",
       "        text-align: right;\n",
       "    }\n",
       "\n",
       "    .dataframe thead th {\n",
       "        text-align: left;\n",
       "    }\n",
       "\n",
       "    .dataframe tbody tr th {\n",
       "        vertical-align: top;\n",
       "    }\n",
       "</style>\n",
       "<table border=\"1\" class=\"dataframe\">\n",
       "  <thead>\n",
       "    <tr style=\"text-align: right;\">\n",
       "      <th></th>\n",
       "      <th>PIN_PIN</th>\n",
       "      <th>ARTINCZ_Name</th>\n",
       "      <th>BG10_ID</th>\n",
       "      <th>BG00_ID</th>\n",
       "      <th>BG90_ID</th>\n",
       "      <th>BLOCK10_Name</th>\n",
       "      <th>BLOCK00_Name</th>\n",
       "      <th>BLOCK90_Name</th>\n",
       "      <th>BULK_Schedule</th>\n",
       "      <th>CARE_Name</th>\n",
       "      <th>CHESBAY_Flag</th>\n",
       "      <th>CIVIC_ID1</th>\n",
       "      <th>CIVIC_ID2</th>\n",
       "      <th>CIVIC_ID3</th>\n",
       "      <th>CIVIC_ID4</th>\n",
       "      <th>CIVIC_ID5</th>\n",
       "      <th>CIVIC_Name1</th>\n",
       "      <th>CIVIC_Name2</th>\n",
       "      <th>CIVIC_Name3</th>\n",
       "      <th>CIVIC_Name4</th>\n",
       "      <th>CIVIC_Name5</th>\n",
       "      <th>CODEINSP_ID</th>\n",
       "      <th>CONGRESS_Name</th>\n",
       "      <th>COUNCIL_Name</th>\n",
       "      <th>CUP_Flag</th>\n",
       "      <th>DESOVER_Name</th>\n",
       "      <th>DISPTCHZ_Name</th>\n",
       "      <th>EZ_Name</th>\n",
       "      <th>FIREDIST_Name</th>\n",
       "      <th>FLOOD500_Flag</th>\n",
       "      <th>HDCITY_Name</th>\n",
       "      <th>HDNATREG_Name</th>\n",
       "      <th>HOA_Name</th>\n",
       "      <th>HOUSE00_Name</th>\n",
       "      <th>LEAF_Schedule</th>\n",
       "      <th>LUPLAN_ID</th>\n",
       "      <th>LUPLAN_Name</th>\n",
       "      <th>NGHOOD_ID</th>\n",
       "      <th>NGHOOD_Name</th>\n",
       "      <th>NIBIA_Name</th>\n",
       "      <th>NIBTA_Name</th>\n",
       "      <th>PLGDIST_Name</th>\n",
       "      <th>POLPREC_Name</th>\n",
       "      <th>POLSECTR_Name</th>\n",
       "      <th>POLTAZ_Name</th>\n",
       "      <th>RCA_Name</th>\n",
       "      <th>REFUSE_ID</th>\n",
       "      <th>SCHZELEM_ID</th>\n",
       "      <th>SCHZELEM_Name</th>\n",
       "      <th>SCHZHIGH_ID</th>\n",
       "      <th>SCHZHIGH_Name</th>\n",
       "      <th>SCHZMID_ID</th>\n",
       "      <th>SCHZMID_Name</th>\n",
       "      <th>SENATE00_Name</th>\n",
       "      <th>SPASMTDT_Name</th>\n",
       "      <th>SUP_Flag</th>\n",
       "      <th>SWEEP_Schedule</th>\n",
       "      <th>TAZ_Name</th>\n",
       "      <th>TRACT10_ID</th>\n",
       "      <th>TRACT10_Name</th>\n",
       "      <th>TRACT00_ID</th>\n",
       "      <th>TRACT00_Name</th>\n",
       "      <th>TRACT90_ID</th>\n",
       "      <th>TRACT90_Name</th>\n",
       "      <th>VOTPREC_Name</th>\n",
       "      <th>WETLAND_Flag</th>\n",
       "      <th>ZIP_Name</th>\n",
       "      <th>ZONING_Name</th>\n",
       "      <th>Location 1</th>\n",
       "    </tr>\n",
       "  </thead>\n",
       "  <tbody>\n",
       "    <tr>\n",
       "      <th>0</th>\n",
       "      <td>W0000736066</td>\n",
       "      <td>NaN</td>\n",
       "      <td>404001</td>\n",
       "      <td>404001</td>\n",
       "      <td>404001.0</td>\n",
       "      <td>1001</td>\n",
       "      <td>1002</td>\n",
       "      <td>103</td>\n",
       "      <td>NaN</td>\n",
       "      <td>NaN</td>\n",
       "      <td>N</td>\n",
       "      <td>350.0</td>\n",
       "      <td>770.0</td>\n",
       "      <td>NaN</td>\n",
       "      <td>NaN</td>\n",
       "      <td>NaN</td>\n",
       "      <td>Fan District Association</td>\n",
       "      <td>Monument Avenue Preservation Society</td>\n",
       "      <td>NaN</td>\n",
       "      <td>NaN</td>\n",
       "      <td>NaN</td>\n",
       "      <td>3026</td>\n",
       "      <td>4</td>\n",
       "      <td>2</td>\n",
       "      <td>NaN</td>\n",
       "      <td>NaN</td>\n",
       "      <td>034A</td>\n",
       "      <td>NaN</td>\n",
       "      <td>10</td>\n",
       "      <td>N</td>\n",
       "      <td>Monument Avenue</td>\n",
       "      <td>Fan Area</td>\n",
       "      <td>NaN</td>\n",
       "      <td>71</td>\n",
       "      <td>TBD</td>\n",
       "      <td>SF-MD</td>\n",
       "      <td>Single-Family (Medium Density)</td>\n",
       "      <td>FAN</td>\n",
       "      <td>The Fan</td>\n",
       "      <td>NaN</td>\n",
       "      <td>NaN</td>\n",
       "      <td>Near West</td>\n",
       "      <td>3</td>\n",
       "      <td>313</td>\n",
       "      <td>34</td>\n",
       "      <td>NaN</td>\n",
       "      <td>Wednesday</td>\n",
       "      <td>317</td>\n",
       "      <td>Fox</td>\n",
       "      <td>102</td>\n",
       "      <td>Jefferson</td>\n",
       "      <td>202</td>\n",
       "      <td>Binford</td>\n",
       "      <td>9</td>\n",
       "      <td>NaN</td>\n",
       "      <td>NaN</td>\n",
       "      <td>TBD</td>\n",
       "      <td>1073</td>\n",
       "      <td>40400</td>\n",
       "      <td>404.0</td>\n",
       "      <td>40400</td>\n",
       "      <td>404.0</td>\n",
       "      <td>40400.0</td>\n",
       "      <td>404.0</td>\n",
       "      <td>204</td>\n",
       "      <td>N</td>\n",
       "      <td>23220</td>\n",
       "      <td>R-48</td>\n",
       "      <td>(37.554815, -77.458805)</td>\n",
       "    </tr>\n",
       "    <tr>\n",
       "      <th>1</th>\n",
       "      <td>N0000557012</td>\n",
       "      <td>NaN</td>\n",
       "      <td>109003</td>\n",
       "      <td>109003</td>\n",
       "      <td>109003.0</td>\n",
       "      <td>3015</td>\n",
       "      <td>3012</td>\n",
       "      <td>320</td>\n",
       "      <td>NaN</td>\n",
       "      <td>NaN</td>\n",
       "      <td>Y</td>\n",
       "      <td>NaN</td>\n",
       "      <td>NaN</td>\n",
       "      <td>NaN</td>\n",
       "      <td>NaN</td>\n",
       "      <td>NaN</td>\n",
       "      <td>NaN</td>\n",
       "      <td>NaN</td>\n",
       "      <td>NaN</td>\n",
       "      <td>NaN</td>\n",
       "      <td>NaN</td>\n",
       "      <td>4028</td>\n",
       "      <td>4</td>\n",
       "      <td>6</td>\n",
       "      <td>NaN</td>\n",
       "      <td>NaN</td>\n",
       "      <td>093B</td>\n",
       "      <td>NaN</td>\n",
       "      <td>15</td>\n",
       "      <td>N</td>\n",
       "      <td>NaN</td>\n",
       "      <td>Chestnut Hill-Plateau</td>\n",
       "      <td>NaN</td>\n",
       "      <td>71</td>\n",
       "      <td>TBD</td>\n",
       "      <td>SF-LD</td>\n",
       "      <td>Single-Family (Low Density)</td>\n",
       "      <td>HPST</td>\n",
       "      <td>Highland Park Southern Tip</td>\n",
       "      <td>Highland Park Southern Tip</td>\n",
       "      <td>Highland Park Southern Tip</td>\n",
       "      <td>North</td>\n",
       "      <td>4</td>\n",
       "      <td>411</td>\n",
       "      <td>93</td>\n",
       "      <td>Highland Park</td>\n",
       "      <td>Wednesday</td>\n",
       "      <td>335</td>\n",
       "      <td>Overby Sheppard</td>\n",
       "      <td>108</td>\n",
       "      <td>Armstrong</td>\n",
       "      <td>212</td>\n",
       "      <td>Martin Luther King Jr</td>\n",
       "      <td>9</td>\n",
       "      <td>NaN</td>\n",
       "      <td>NaN</td>\n",
       "      <td>TBD</td>\n",
       "      <td>1025</td>\n",
       "      <td>10900</td>\n",
       "      <td>109.0</td>\n",
       "      <td>10900</td>\n",
       "      <td>109.0</td>\n",
       "      <td>10900.0</td>\n",
       "      <td>109.0</td>\n",
       "      <td>604</td>\n",
       "      <td>N</td>\n",
       "      <td>23222</td>\n",
       "      <td>R-5</td>\n",
       "      <td>(37.563372, -77.424223)</td>\n",
       "    </tr>\n",
       "  </tbody>\n",
       "</table>\n",
       "</div>"
      ],
      "text/plain": [
       "       PIN_PIN ARTINCZ_Name  BG10_ID  BG00_ID   BG90_ID  BLOCK10_Name  \\\n",
       "0  W0000736066          NaN   404001   404001  404001.0          1001   \n",
       "1  N0000557012          NaN   109003   109003  109003.0          3015   \n",
       "\n",
       "   BLOCK00_Name BLOCK90_Name  BULK_Schedule CARE_Name CHESBAY_Flag  CIVIC_ID1  \\\n",
       "0          1002          103            NaN       NaN            N      350.0   \n",
       "1          3012          320            NaN       NaN            Y        NaN   \n",
       "\n",
       "   CIVIC_ID2  CIVIC_ID3  CIVIC_ID4  CIVIC_ID5               CIVIC_Name1  \\\n",
       "0      770.0        NaN        NaN        NaN  Fan District Association   \n",
       "1        NaN        NaN        NaN        NaN                       NaN   \n",
       "\n",
       "                            CIVIC_Name2 CIVIC_Name3 CIVIC_Name4  CIVIC_Name5  \\\n",
       "0  Monument Avenue Preservation Society         NaN         NaN          NaN   \n",
       "1                                   NaN         NaN         NaN          NaN   \n",
       "\n",
       "   CODEINSP_ID  CONGRESS_Name  COUNCIL_Name  CUP_Flag DESOVER_Name  \\\n",
       "0         3026              4             2       NaN          NaN   \n",
       "1         4028              4             6       NaN          NaN   \n",
       "\n",
       "  DISPTCHZ_Name EZ_Name  FIREDIST_Name FLOOD500_Flag      HDCITY_Name  \\\n",
       "0          034A     NaN             10             N  Monument Avenue   \n",
       "1          093B     NaN             15             N              NaN   \n",
       "\n",
       "           HDNATREG_Name HOA_Name  HOUSE00_Name LEAF_Schedule LUPLAN_ID  \\\n",
       "0               Fan Area      NaN            71           TBD     SF-MD   \n",
       "1  Chestnut Hill-Plateau      NaN            71           TBD     SF-LD   \n",
       "\n",
       "                      LUPLAN_Name NGHOOD_ID                 NGHOOD_Name  \\\n",
       "0  Single-Family (Medium Density)       FAN                     The Fan   \n",
       "1     Single-Family (Low Density)      HPST  Highland Park Southern Tip   \n",
       "\n",
       "                   NIBIA_Name                  NIBTA_Name PLGDIST_Name  \\\n",
       "0                         NaN                         NaN    Near West   \n",
       "1  Highland Park Southern Tip  Highland Park Southern Tip        North   \n",
       "\n",
       "   POLPREC_Name  POLSECTR_Name  POLTAZ_Name       RCA_Name  REFUSE_ID  \\\n",
       "0             3            313           34            NaN  Wednesday   \n",
       "1             4            411           93  Highland Park  Wednesday   \n",
       "\n",
       "   SCHZELEM_ID    SCHZELEM_Name  SCHZHIGH_ID SCHZHIGH_Name  SCHZMID_ID  \\\n",
       "0          317              Fox          102     Jefferson         202   \n",
       "1          335  Overby Sheppard          108     Armstrong         212   \n",
       "\n",
       "            SCHZMID_Name  SENATE00_Name SPASMTDT_Name  SUP_Flag  \\\n",
       "0                Binford              9           NaN       NaN   \n",
       "1  Martin Luther King Jr              9           NaN       NaN   \n",
       "\n",
       "  SWEEP_Schedule  TAZ_Name  TRACT10_ID  TRACT10_Name  TRACT00_ID  \\\n",
       "0            TBD      1073       40400         404.0       40400   \n",
       "1            TBD      1025       10900         109.0       10900   \n",
       "\n",
       "   TRACT00_Name  TRACT90_ID  TRACT90_Name  VOTPREC_Name WETLAND_Flag  \\\n",
       "0         404.0     40400.0         404.0           204            N   \n",
       "1         109.0     10900.0         109.0           604            N   \n",
       "\n",
       "   ZIP_Name ZONING_Name               Location 1  \n",
       "0     23220        R-48  (37.554815, -77.458805)  \n",
       "1     23222         R-5  (37.563372, -77.424223)  "
      ]
     },
     "execution_count": 17,
     "metadata": {},
     "output_type": "execute_result"
    }
   ],
   "source": [
    "df_geo.head(2)"
   ]
  },
  {
   "cell_type": "code",
   "execution_count": 20,
   "metadata": {},
   "outputs": [],
   "source": [
    "df_geo = df_geo.drop(['ARTINCZ_Name', 'Location 1','SWEEP_Schedule','SCHZMID_Name','SCHZHIGH_Name','SCHZELEM_Name','REFUSE_ID','BG00_ID','BG90_ID', 'BLOCK00_Name','BLOCK90_Name','BULK_Schedule','CIVIC_ID1','CIVIC_ID2','CIVIC_ID3','CIVIC_ID4','CIVIC_ID5','CIVIC_Name1','CIVIC_Name2','CIVIC_Name3','CIVIC_Name4','CIVIC_Name5','CODEINSP_ID','CONGRESS_Name','COUNCIL_Name','DISPTCHZ_Name','FIREDIST_Name','FLOOD500_Flag','HOA_Name','HOUSE00_Name','LEAF_Schedule','LUPLAN_ID','NGHOOD_ID','NIBIA_Name','NIBTA_Name','PLGDIST_Name','POLPREC_Name','POLSECTR_Name','POLTAZ_Name','SENATE00_Name','TAZ_Name','TRACT10_Name','TRACT00_ID','TRACT00_Name','TRACT90_ID','TRACT90_Name','VOTPREC_Name','WETLAND_Flag'], axis=1)"
   ]
  },
  {
   "cell_type": "code",
   "execution_count": 21,
   "metadata": {},
   "outputs": [
    {
     "data": {
      "text/plain": [
       "(74262, 21)"
      ]
     },
     "execution_count": 21,
     "metadata": {},
     "output_type": "execute_result"
    }
   ],
   "source": [
    "#Removing duplicate \n",
    "#before (1341903, 31)\n",
    "df_geo = df_geo.drop_duplicates()\n",
    "df_geo.shape"
   ]
  },
  {
   "cell_type": "code",
   "execution_count": 22,
   "metadata": {},
   "outputs": [],
   "source": [
    "df_mix = pd.merge(df_geo,df_ass, left_on=['PIN_PIN'], right_on=['PIN'], how=\"left\").drop_duplicates()"
   ]
  },
  {
   "cell_type": "code",
   "execution_count": 23,
   "metadata": {},
   "outputs": [
    {
     "data": {
      "text/html": [
       "<div>\n",
       "<style>\n",
       "    .dataframe thead tr:only-child th {\n",
       "        text-align: right;\n",
       "    }\n",
       "\n",
       "    .dataframe thead th {\n",
       "        text-align: left;\n",
       "    }\n",
       "\n",
       "    .dataframe tbody tr th {\n",
       "        vertical-align: top;\n",
       "    }\n",
       "</style>\n",
       "<table border=\"1\" class=\"dataframe\">\n",
       "  <thead>\n",
       "    <tr style=\"text-align: right;\">\n",
       "      <th></th>\n",
       "      <th>PIN_PIN</th>\n",
       "      <th>BG10_ID</th>\n",
       "      <th>BLOCK10_Name</th>\n",
       "      <th>CARE_Name</th>\n",
       "      <th>CHESBAY_Flag</th>\n",
       "      <th>CUP_Flag</th>\n",
       "      <th>DESOVER_Name</th>\n",
       "      <th>EZ_Name</th>\n",
       "      <th>HDCITY_Name</th>\n",
       "      <th>HDNATREG_Name</th>\n",
       "      <th>LUPLAN_Name</th>\n",
       "      <th>NGHOOD_Name</th>\n",
       "      <th>RCA_Name</th>\n",
       "      <th>SCHZELEM_ID</th>\n",
       "      <th>SCHZHIGH_ID</th>\n",
       "      <th>SCHZMID_ID</th>\n",
       "      <th>SPASMTDT_Name</th>\n",
       "      <th>SUP_Flag</th>\n",
       "      <th>TRACT10_ID</th>\n",
       "      <th>ZIP_Name</th>\n",
       "      <th>ZONING_Name</th>\n",
       "      <th>SPECIAL_ASSESSMENT_DISTRICT</th>\n",
       "      <th>ASSESSMENT_MAILING_ZIP_CODE</th>\n",
       "      <th>PROPERTY_CLASSCODE</th>\n",
       "      <th>AREA_TAX</th>\n",
       "      <th>TOTAL_VALUE</th>\n",
       "      <th>LAND_SQFT</th>\n",
       "      <th>ASSESSMENT_NEIGHBORHOOD_CODE</th>\n",
       "      <th>PIN</th>\n",
       "      <th>ASSESSMENT_MAILING_CITY</th>\n",
       "      <th>STATE_PLANE_X_COORDINATE</th>\n",
       "      <th>ASSESSMENT_MAILING_ADDRESS</th>\n",
       "      <th>SPECIAL_ASSESSMENT_DIST_DESC</th>\n",
       "      <th>Location 1</th>\n",
       "      <th>OWNER_NAME</th>\n",
       "      <th>CORPORATION_ID</th>\n",
       "      <th>ASSESSORS_NEIGHBORHOOD_DESC</th>\n",
       "      <th>STATE_PLANE_Y_COORDINATE</th>\n",
       "      <th>PROPERTY_CLASS_DESCRIPTION</th>\n",
       "      <th>ASSESSMENT_DATE</th>\n",
       "      <th>LAND_VALUE</th>\n",
       "      <th>JURISDICTION_ID</th>\n",
       "      <th>GPIN</th>\n",
       "      <th>DWELLING_VALUE</th>\n",
       "      <th>ASSESSMENT_MAILING_STATE</th>\n",
       "    </tr>\n",
       "  </thead>\n",
       "  <tbody>\n",
       "    <tr>\n",
       "      <th>0</th>\n",
       "      <td>W0000736066</td>\n",
       "      <td>404001</td>\n",
       "      <td>1001</td>\n",
       "      <td>NaN</td>\n",
       "      <td>N</td>\n",
       "      <td>NaN</td>\n",
       "      <td>NaN</td>\n",
       "      <td>NaN</td>\n",
       "      <td>Monument Avenue</td>\n",
       "      <td>Fan Area</td>\n",
       "      <td>Single-Family (Medium Density)</td>\n",
       "      <td>The Fan</td>\n",
       "      <td>NaN</td>\n",
       "      <td>317</td>\n",
       "      <td>102</td>\n",
       "      <td>202</td>\n",
       "      <td>NaN</td>\n",
       "      <td>NaN</td>\n",
       "      <td>40400</td>\n",
       "      <td>23220</td>\n",
       "      <td>R-48</td>\n",
       "      <td>NaN</td>\n",
       "      <td>23832</td>\n",
       "      <td>212.0</td>\n",
       "      <td>NaN</td>\n",
       "      <td>$645000.00</td>\n",
       "      <td>NaN</td>\n",
       "      <td>NaN</td>\n",
       "      <td>W0000736066</td>\n",
       "      <td>CHESTERFIELD</td>\n",
       "      <td>1.178474e+07</td>\n",
       "      <td>PO BOX 255</td>\n",
       "      <td>NaN</td>\n",
       "      <td>(37.55472362, -77.45891347)</td>\n",
       "      <td>JLM PROPERTIES LLC</td>\n",
       "      <td>NaN</td>\n",
       "      <td>NaN</td>\n",
       "      <td>3.727230e+06</td>\n",
       "      <td>212 Apartment 5-11 Converted</td>\n",
       "      <td>01/01/2005</td>\n",
       "      <td>$90000.00</td>\n",
       "      <td>NaN</td>\n",
       "      <td>58411.0</td>\n",
       "      <td>$555000.00</td>\n",
       "      <td>VA</td>\n",
       "    </tr>\n",
       "    <tr>\n",
       "      <th>1</th>\n",
       "      <td>W0000736066</td>\n",
       "      <td>404001</td>\n",
       "      <td>1001</td>\n",
       "      <td>NaN</td>\n",
       "      <td>N</td>\n",
       "      <td>NaN</td>\n",
       "      <td>NaN</td>\n",
       "      <td>NaN</td>\n",
       "      <td>Monument Avenue</td>\n",
       "      <td>Fan Area</td>\n",
       "      <td>Single-Family (Medium Density)</td>\n",
       "      <td>The Fan</td>\n",
       "      <td>NaN</td>\n",
       "      <td>317</td>\n",
       "      <td>102</td>\n",
       "      <td>202</td>\n",
       "      <td>NaN</td>\n",
       "      <td>NaN</td>\n",
       "      <td>40400</td>\n",
       "      <td>23220</td>\n",
       "      <td>R-48</td>\n",
       "      <td>0.0</td>\n",
       "      <td>23220</td>\n",
       "      <td>205.0</td>\n",
       "      <td>1.58</td>\n",
       "      <td>$2000.00</td>\n",
       "      <td>3920.0</td>\n",
       "      <td>216.0</td>\n",
       "      <td>W0000736066</td>\n",
       "      <td>RICHMOND</td>\n",
       "      <td>1.178473e+07</td>\n",
       "      <td>1652 W GRACE ST</td>\n",
       "      <td>None</td>\n",
       "      <td>(37.55472362, -77.45891347)</td>\n",
       "      <td>BRUNSWICK CONDOMINIUM UNIT OWNERS ASSOCIATION</td>\n",
       "      <td>699.0</td>\n",
       "      <td>Fan District</td>\n",
       "      <td>3.727230e+06</td>\n",
       "      <td>R Condo Common Area</td>\n",
       "      <td>01/01/2009</td>\n",
       "      <td>$1000.00</td>\n",
       "      <td>0.0</td>\n",
       "      <td>95586.0</td>\n",
       "      <td>$1000.00</td>\n",
       "      <td>VA</td>\n",
       "    </tr>\n",
       "  </tbody>\n",
       "</table>\n",
       "</div>"
      ],
      "text/plain": [
       "       PIN_PIN  BG10_ID  BLOCK10_Name CARE_Name CHESBAY_Flag  CUP_Flag  \\\n",
       "0  W0000736066   404001          1001       NaN            N       NaN   \n",
       "1  W0000736066   404001          1001       NaN            N       NaN   \n",
       "\n",
       "  DESOVER_Name EZ_Name      HDCITY_Name HDNATREG_Name  \\\n",
       "0          NaN     NaN  Monument Avenue      Fan Area   \n",
       "1          NaN     NaN  Monument Avenue      Fan Area   \n",
       "\n",
       "                      LUPLAN_Name NGHOOD_Name RCA_Name  SCHZELEM_ID  \\\n",
       "0  Single-Family (Medium Density)     The Fan      NaN          317   \n",
       "1  Single-Family (Medium Density)     The Fan      NaN          317   \n",
       "\n",
       "   SCHZHIGH_ID  SCHZMID_ID SPASMTDT_Name  SUP_Flag  TRACT10_ID  ZIP_Name  \\\n",
       "0          102         202           NaN       NaN       40400     23220   \n",
       "1          102         202           NaN       NaN       40400     23220   \n",
       "\n",
       "  ZONING_Name  SPECIAL_ASSESSMENT_DISTRICT ASSESSMENT_MAILING_ZIP_CODE  \\\n",
       "0        R-48                          NaN                       23832   \n",
       "1        R-48                          0.0                       23220   \n",
       "\n",
       "   PROPERTY_CLASSCODE AREA_TAX TOTAL_VALUE  LAND_SQFT  \\\n",
       "0               212.0      NaN  $645000.00        NaN   \n",
       "1               205.0     1.58    $2000.00     3920.0   \n",
       "\n",
       "   ASSESSMENT_NEIGHBORHOOD_CODE          PIN ASSESSMENT_MAILING_CITY  \\\n",
       "0                           NaN  W0000736066            CHESTERFIELD   \n",
       "1                         216.0  W0000736066                RICHMOND   \n",
       "\n",
       "   STATE_PLANE_X_COORDINATE ASSESSMENT_MAILING_ADDRESS  \\\n",
       "0              1.178474e+07                 PO BOX 255   \n",
       "1              1.178473e+07            1652 W GRACE ST   \n",
       "\n",
       "  SPECIAL_ASSESSMENT_DIST_DESC                   Location 1  \\\n",
       "0                          NaN  (37.55472362, -77.45891347)   \n",
       "1                         None  (37.55472362, -77.45891347)   \n",
       "\n",
       "                                      OWNER_NAME  CORPORATION_ID  \\\n",
       "0                             JLM PROPERTIES LLC             NaN   \n",
       "1  BRUNSWICK CONDOMINIUM UNIT OWNERS ASSOCIATION           699.0   \n",
       "\n",
       "  ASSESSORS_NEIGHBORHOOD_DESC  STATE_PLANE_Y_COORDINATE  \\\n",
       "0                         NaN              3.727230e+06   \n",
       "1                Fan District              3.727230e+06   \n",
       "\n",
       "     PROPERTY_CLASS_DESCRIPTION ASSESSMENT_DATE LAND_VALUE  JURISDICTION_ID  \\\n",
       "0  212 Apartment 5-11 Converted      01/01/2005  $90000.00              NaN   \n",
       "1           R Condo Common Area      01/01/2009   $1000.00              0.0   \n",
       "\n",
       "      GPIN DWELLING_VALUE ASSESSMENT_MAILING_STATE  \n",
       "0  58411.0     $555000.00                       VA  \n",
       "1  95586.0       $1000.00                       VA  "
      ]
     },
     "execution_count": 23,
     "metadata": {},
     "output_type": "execute_result"
    }
   ],
   "source": [
    "df_mix.head(2)"
   ]
  },
  {
   "cell_type": "code",
   "execution_count": 24,
   "metadata": {
    "collapsed": true
   },
   "outputs": [],
   "source": [
    "df_mix['year'] = df_mix['ASSESSMENT_DATE'].str.slice(6,10)"
   ]
  },
  {
   "cell_type": "code",
   "execution_count": 25,
   "metadata": {},
   "outputs": [
    {
     "data": {
      "text/plain": [
       "(1379292, 46)"
      ]
     },
     "execution_count": 25,
     "metadata": {},
     "output_type": "execute_result"
    }
   ],
   "source": [
    "df_mix.shape"
   ]
  },
  {
   "cell_type": "code",
   "execution_count": 26,
   "metadata": {},
   "outputs": [],
   "source": [
    "df = pd.merge(df_mix,df_tran_hist, left_on=[\"PIN_PIN\",\"year\"], right_on=[\"PIN\",\"year\"], how=\"left\")"
   ]
  },
  {
   "cell_type": "code",
   "execution_count": 27,
   "metadata": {},
   "outputs": [],
   "source": [
    "col_2_drop = ['PIN_x','STATE_PLANE_Y_COORDINATE','STATE_PLANE_X_COORDINATE','PIN_y','SALE_REFERENCE_DOCUMENT','GRANTOR','OWNER_NAME','ASSESSMENT_MAILING_ADDRESS','ASSESSMENT_MAILING_CITY','ASSESSMENT_MAILING_STATE','GRANTOR','OWNER_NAME']\n",
    "df = df.drop(col_2_drop,axis=1)"
   ]
  },
  {
   "cell_type": "code",
   "execution_count": null,
   "metadata": {
    "collapsed": true
   },
   "outputs": [],
   "source": [
    "df['LAND_VALUE'] = df['LAND_VALUE'].str.slice(1)\n",
    "df['DWELLING_VALUE'] = df['DWELLING_VALUE'].str.slice(1)\n",
    "df['TOTAL_VALUE'] = df['TOTAL_VALUE'].str.slice(1)"
   ]
  },
  {
   "cell_type": "code",
   "execution_count": 28,
   "metadata": {},
   "outputs": [
    {
     "data": {
      "text/plain": [
       "PIN_PIN                          object\n",
       "BG10_ID                           int64\n",
       "BLOCK10_Name                      int64\n",
       "CARE_Name                        object\n",
       "CHESBAY_Flag                     object\n",
       "CUP_Flag                        float64\n",
       "DESOVER_Name                     object\n",
       "EZ_Name                          object\n",
       "HDCITY_Name                      object\n",
       "HDNATREG_Name                    object\n",
       "LUPLAN_Name                      object\n",
       "NGHOOD_Name                      object\n",
       "RCA_Name                         object\n",
       "SCHZELEM_ID                       int64\n",
       "SCHZHIGH_ID                       int64\n",
       "SCHZMID_ID                        int64\n",
       "SPASMTDT_Name                    object\n",
       "SUP_Flag                        float64\n",
       "TRACT10_ID                        int64\n",
       "ZIP_Name                          int64\n",
       "ZONING_Name                      object\n",
       "SPECIAL_ASSESSMENT_DISTRICT     float64\n",
       "ASSESSMENT_MAILING_ZIP_CODE      object\n",
       "PROPERTY_CLASSCODE              float64\n",
       "AREA_TAX                         object\n",
       "TOTAL_VALUE                      object\n",
       "LAND_SQFT                       float64\n",
       "ASSESSMENT_NEIGHBORHOOD_CODE    float64\n",
       "SPECIAL_ASSESSMENT_DIST_DESC     object\n",
       "Location 1                       object\n",
       "CORPORATION_ID                  float64\n",
       "ASSESSORS_NEIGHBORHOOD_DESC      object\n",
       "PROPERTY_CLASS_DESCRIPTION       object\n",
       "ASSESSMENT_DATE                  object\n",
       "LAND_VALUE                       object\n",
       "JURISDICTION_ID                 float64\n",
       "GPIN                            float64\n",
       "DWELLING_VALUE                   object\n",
       "year                             object\n",
       "SALE_DATE                        object\n",
       "SALE_AMOUNT                      object\n",
       "VALIDATED_TRANS_DESC             object\n",
       "dtype: object"
      ]
     },
     "execution_count": 28,
     "metadata": {},
     "output_type": "execute_result"
    }
   ],
   "source": [
    "df.dtypes"
   ]
  },
  {
   "cell_type": "code",
   "execution_count": null,
   "metadata": {},
   "outputs": [],
   "source": [
    "df = changeToNumeric(df, ['year', 'LAND_VALUE', 'DWELLING_VALUE', 'TOTAL_VALUE', 'STORIES'])"
   ]
  },
  {
   "cell_type": "code",
   "execution_count": null,
   "metadata": {
    "collapsed": true
   },
   "outputs": [],
   "source": [
    "savePickle(df, \"prop_assess_history.p\")"
   ]
  },
  {
   "cell_type": "code",
   "execution_count": null,
   "metadata": {},
   "outputs": [],
   "source": [
    "df[:2]"
   ]
  },
  {
   "cell_type": "code",
   "execution_count": null,
   "metadata": {
    "collapsed": true,
    "scrolled": true
   },
   "outputs": [],
   "source": [
    "# Creating Aggregated table\n",
    "dftmp = df[['NGHOOD_Name', 'year','LAND_VALUE','DWELLING_VALUE','TOTAL_VALUE','LAND_SQFT',\n",
    "            'BUILDINGS_ON_PROPERTY_COUNT','STORIES', 'YEAR_BUILT', 'SQFT_OF_FINISHED_LIVING_AREA',\n",
    "            'PROPERTY_CLASS_DESCRIPTION']]\n",
    "df_agg = dftmp.groupby(['NGHOOD_Name', 'year']).agg('median').add_prefix('med_')\\\n",
    ".join(dftmp.groupby(['NGHOOD_Name', 'year']).median().pct_change().add_prefix('med_pct_chng_'))\\\n",
    ".join(dftmp.groupby(['NGHOOD_Name', 'year']).agg('sum').add_prefix('sum_'))\\\n",
    ".join(dftmp.groupby(['NGHOOD_Name', 'year']).sum().pct_change().add_prefix('sum_pct_chng_'))\\\n",
    ".join(dftmp[['NGHOOD_Name', 'year', 'TOTAL_VALUE']].groupby(['NGHOOD_Name', 'year'])\\\n",
    "     .count().rename(columns={\"TOTAL_VALUE\": \"Property_Count\"}))\\\n",
    ".join(dftmp[['NGHOOD_Name', 'year', 'TOTAL_VALUE']].groupby(['NGHOOD_Name', 'year'])\\\n",
    "     .count().pct_change().rename(columns={\"TOTAL_VALUE\": \"pct_chng_Property_Count\"}))\\\n",
    ".reset_index()\\\n",
    ".merge( modes(dftmp, ['NGHOOD_Name', 'year'], 'PROPERTY_CLASS_DESCRIPTION', 'mf_prop_class_count')\\\n",
    "     , how='left')\n",
    "\n",
    "df_agg = df_agg.drop([\n",
    "    'sum_YEAR_BUILT',\n",
    "    'sum_STORIES',\n",
    "    'sum_BUILDINGS_ON_PROPERTY_COUNT'\n",
    "], axis=1)"
   ]
  },
  {
   "cell_type": "code",
   "execution_count": null,
   "metadata": {},
   "outputs": [],
   "source": [
    "df_agg[['year', 'sum_DWELLING_VALUE', 'med_DWELLING_VALUE', 'sum_pct_chng_DWELLING_VALUE', 'med_pct_chng_DWELLING_VALUE']][:5]"
   ]
  },
  {
   "cell_type": "code",
   "execution_count": null,
   "metadata": {},
   "outputs": [],
   "source": [
    "df_agg[:2]"
   ]
  },
  {
   "cell_type": "code",
   "execution_count": null,
   "metadata": {
    "collapsed": true
   },
   "outputs": [],
   "source": [
    "dat = shapefile.Reader('./assets/geo_export_2cca3db2-115c-4f41-9f5f-313608e05e80.shp')"
   ]
  },
  {
   "cell_type": "code",
   "execution_count": null,
   "metadata": {
    "collapsed": true
   },
   "outputs": [],
   "source": [
    "# getParts() and getDict() from http://www.abisen.com/blog/bokeh-maps/\n",
    "\n",
    "# Given a shapeObject return a list of list for latitude and longitudes values\n",
    "#       - Handle scenarios where there are multiple parts to a shapeObj\n",
    "\n",
    "\n",
    "def getParts ( shapeObj ):\n",
    "\n",
    "    points = []\n",
    "\n",
    "    num_parts = len( shapeObj.parts )\n",
    "    end = len( shapeObj.points ) - 1\n",
    "    segments = list( shapeObj.parts ) + [ end ]\n",
    "\n",
    "    for i in range( num_parts ):\n",
    "        points.append( shapeObj.points[ segments[i]:segments[i+1] ] )\n",
    "\n",
    "\n",
    "    return points\n",
    "\n",
    "\n",
    "def getDict ( state_name, shapefile ):\n",
    "\n",
    "    stateDict = {state_name: {} }\n",
    "\n",
    "    rec = []\n",
    "    shp = []\n",
    "    points = []\n",
    "\n",
    "\n",
    "    # Select only the records representing the\n",
    "    # \"state_name\" and discard all other\n",
    "    for i in shapefile.shapeRecords( ):\n",
    "\n",
    "        if i.record[4] == state_name:\n",
    "            rec.append(i.record)\n",
    "            shp.append(i.shape)\n",
    "\n",
    "    # In a multi record state for calculating total area\n",
    "    # sum up the area of all the individual records\n",
    "    #        - first record element represents area in cms^2\n",
    "    total_area = sum( [float(i[0]) for i in rec] ) / (1000*1000)\n",
    "\n",
    "\n",
    "    # For each selected shape object get\n",
    "    # list of points while considering the cases where there may be\n",
    "    # multiple parts  in a single record\n",
    "    for j in shp:\n",
    "        for i in getParts(j):\n",
    "            points.append(i)\n",
    "\n",
    "    # Prepare the dictionary\n",
    "    # Seperate the points into two separate lists of lists (easier for bokeh to consume)\n",
    "    #      - one representing latitudes\n",
    "    #      - second representing longitudes\n",
    "\n",
    "    lat = []\n",
    "    lng = []\n",
    "    for k in points:\n",
    "        lat.append( [l[1] for l in k] )\n",
    "        lng.append( [l[0] for l in k] )\n",
    "\n",
    "\n",
    "    stateDict[state_name]['lat_list'] = lat\n",
    "    stateDict[state_name]['lng_list'] = lng\n",
    "    stateDict[state_name]['total_area'] = total_area\n",
    "\n",
    "    return stateDict\n"
   ]
  },
  {
   "cell_type": "code",
   "execution_count": null,
   "metadata": {
    "collapsed": true
   },
   "outputs": [],
   "source": [
    "df_agg['lat'] = 'obj'\n",
    "df_agg['lng'] = 'obj'\n",
    "\n",
    "hoods = df_agg.NGHOOD_Name.unique().tolist()\n",
    "\n",
    "for hood in hoods:\n",
    "    data = getDict(hood, dat)\n",
    "\n",
    "    indexes = df_agg.loc[(df_agg.NGHOOD_Name==hood)].index.tolist()\n",
    "    for ind in indexes:\n",
    "        df_agg.set_value(ind, 'lat', data[hood]['lat_list'][0])\n",
    "        df_agg.set_value(ind, 'lng', data[hood]['lng_list'][0])"
   ]
  },
  {
   "cell_type": "code",
   "execution_count": null,
   "metadata": {
    "collapsed": true
   },
   "outputs": [],
   "source": [
    "savePickle(df_agg, \"AGG_prop_hist.p\")"
   ]
  },
  {
   "cell_type": "code",
   "execution_count": null,
   "metadata": {
    "collapsed": true
   },
   "outputs": [],
   "source": []
  },
  {
   "cell_type": "code",
   "execution_count": null,
   "metadata": {
    "collapsed": true
   },
   "outputs": [],
   "source": []
  },
  {
   "cell_type": "code",
   "execution_count": null,
   "metadata": {
    "collapsed": true
   },
   "outputs": [],
   "source": []
  },
  {
   "cell_type": "code",
   "execution_count": null,
   "metadata": {
    "collapsed": true
   },
   "outputs": [],
   "source": [
    "# #function to get .2, .4, .6, and .8 quantiles\n",
    "# def getQuants(df, col):\n",
    "#     return df[col].dropna().quantile([.2,.4,.6,.8]).tolist()"
   ]
  },
  {
   "cell_type": "code",
   "execution_count": null,
   "metadata": {
    "collapsed": true
   },
   "outputs": [],
   "source": [
    "# def setBuckets(df, col, new_col):\n",
    "#     quants = getQuants(df, col)\n",
    "#     qRows = []\n",
    "#     print(\"Calculated bins for \"+col+\": \", quants)\n",
    "    \n",
    "#     qRows.append( df.loc[ (df[col]>=0) & (df[col]<=quants[0])  ].index.values.tolist() )\n",
    "#     qRows.append(df.loc[ (df[col]>quants[0]) & (df[col]<=quants[1]) ].index.values.tolist()  )\n",
    "#     qRows.append(df.loc[ (df[col]>quants[1]) & (df[col]<=quants[2]) ].index.values.tolist()  )\n",
    "#     qRows.append(df.loc[ (df[col]>quants[2]) & (df[col]<=quants[3]) ].index.values.tolist()  )\n",
    "#     qRows.append(df.loc[ (df[col]>quants[3]) ].index.values.tolist()  )\n",
    "\n",
    "#         print(\"Entries per respective bin: \",len(qRows[0]),\" - \",len(qRows[1]),\" - \",len(qRows[2]),\" - \",len(qRows[3]),\" - \",len(qRows[4]))\n",
    "    \n",
    "            \n",
    "# #     return df\n",
    "#     # Values must set in this manner to prevent Pandas from A trying to set a value on a copy of \n",
    "#     # a slice from a DataFrame. \n",
    "#     for i,qRow in enumerate(qRows):\n",
    "#         tic=timeit.default_timer()\n",
    "#         #print(\"i++ \", i)\n",
    "#         bucket = 0\n",
    "#         if i == 0:\n",
    "#             bucket = 1\n",
    "#         elif i == 1:\n",
    "#             bucket = 2\n",
    "#         elif i == 2:\n",
    "#             bucket = 3\n",
    "#         elif i == 3:\n",
    "#             bucket = 4\n",
    "#         elif i == 4:\n",
    "#             bucket = 5\n",
    "#         else:\n",
    "#             bucket = 0\n",
    "#         print(\"Setting bucket \", bucket, \" of 5.\")    \n",
    "#         for ind in qRow:\n",
    "# #             if j % 10000 ==0 :\n",
    "# #                 print(j)\n",
    "# #                 toc=timeit.default_timer()\n",
    "# #                 print(\"min: \",(toc - tic) / 60)\n",
    "# #             df.set_value(ind, new_col, bucket)\n",
    "#             df.loc[ind, new_col] = bucket\n",
    "#         btoc=timeit.default_timer()\n",
    "#         print(\"Bucket set time in min: \",(btoc - tic) / 60)\n",
    "#     ttoc=timeit.default_timer()\n",
    "#     print(\"Total time in min: \",(ttoc - tic) / 60)\n",
    "    \n",
    "            "
   ]
  }
 ],
 "metadata": {
  "kernelspec": {
   "display_name": "Python 3",
   "language": "python",
   "name": "python3"
  },
  "language_info": {
   "codemirror_mode": {
    "name": "ipython",
    "version": 3
   },
   "file_extension": ".py",
   "mimetype": "text/x-python",
   "name": "python",
   "nbconvert_exporter": "python",
   "pygments_lexer": "ipython3",
   "version": "3.6.1"
  }
 },
 "nbformat": 4,
 "nbformat_minor": 2
}
