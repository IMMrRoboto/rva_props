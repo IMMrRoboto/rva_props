{
 "cells": [
  {
   "cell_type": "code",
   "execution_count": null,
   "metadata": {
    "collapsed": true
   },
   "outputs": [],
   "source": [
    "import pickle\n",
    "import pandas as pd"
   ]
  },
  {
   "cell_type": "code",
   "execution_count": null,
   "metadata": {
    "collapsed": true
   },
   "outputs": [],
   "source": [
    "def savePickle(dataFrame, pickleName=\"df_pickle.p\"):\n",
    "    pickle.dump( dataFrame, open( pickleName, \"wb\" ) )"
   ]
  },
  {
   "cell_type": "code",
   "execution_count": null,
   "metadata": {
    "collapsed": true
   },
   "outputs": [],
   "source": [
    "def loadPickle(path_to_pickle):\n",
    "    return pickle.load( open(path_to_pickle , \"rb\" ) )"
   ]
  },
  {
   "cell_type": "code",
   "execution_count": null,
   "metadata": {
    "collapsed": true
   },
   "outputs": [],
   "source": [
    "def saveCSV(dataFrame, csvName='merged_data.csv'):\n",
    "    dataFrame.to_csv(csvName)"
   ]
  },
  {
   "cell_type": "code",
   "execution_count": null,
   "metadata": {
    "collapsed": true
   },
   "outputs": [],
   "source": [
    "def changeToNumeric(dataFrame, columnArr):\n",
    "    for col in columnArr:\n",
    "        dataFrame[col] = pd.to_numeric(dataFrame[col],errors='coerce')\n",
    "    return dataFrame"
   ]
  },
  {
   "cell_type": "code",
   "execution_count": null,
   "metadata": {
    "collapsed": true
   },
   "outputs": [],
   "source": [
    "# Below functions written by StackOverflow user: abw333\n",
    "# URL: https://stackoverflow.com/a/38216118\n",
    "def mode(df, key_cols, value_col, count_col):\n",
    "    '''                                                                                                                                                                                                                                                                                                                                                              \n",
    "    Pandas does not provide a `mode` aggregation function                                                                                                                                                                                                                                                                                                            \n",
    "    for its `GroupBy` objects. This function is meant to fill                                                                                                                                                                                                                                                                                                        \n",
    "    that gap, though the semantics are not exactly the same.                                                                                                                                                                                                                                                                                                         \n",
    "\n",
    "    The input is a DataFrame with the columns `key_cols`                                                                                                                                                                                                                                                                                                             \n",
    "    that you would like to group on, and the column                                                                                                                                                                                                                                                                                                                  \n",
    "    `value_col` for which you would like to obtain the mode.                                                                                                                                                                                                                                                                                                         \n",
    "\n",
    "    The output is a DataFrame with a record per group that has at least one mode                                                                                                                                                                                                                                                                                     \n",
    "    (null values are not counted). The `key_cols` are included as columns, `value_col`                                                                                                                                                                                                                                                                               \n",
    "    contains a mode (ties are broken arbitrarily and deterministically) for each                                                                                                                                                                                                                                                                                     \n",
    "    group, and `count_col` indicates how many times each mode appeared in its group.                                                                                                                                                                                                                                                                                 \n",
    "    '''\n",
    "    return df.groupby(key_cols + [value_col]).size() \\\n",
    "             .to_frame(count_col).reset_index() \\\n",
    "             .sort_values(count_col, ascending=False) \\\n",
    "             .drop_duplicates(subset=key_cols)\n",
    "\n",
    "def modes(df, key_cols, value_col, count_col):\n",
    "    '''                                                                                                                                                                                                                                                                                                                                                              \n",
    "    Pandas does not provide a `mode` aggregation function                                                                                                                                                                                                                                                                                                            \n",
    "    for its `GroupBy` objects. This function is meant to fill                                                                                                                                                                                                                                                                                                        \n",
    "    that gap, though the semantics are not exactly the same.                                                                                                                                                                                                                                                                                                         \n",
    "\n",
    "    The input is a DataFrame with the columns `key_cols`                                                                                                                                                                                                                                                                                                             \n",
    "    that you would like to group on, and the column                                                                                                                                                                                                                                                                                                                  \n",
    "    `value_col` for which you would like to obtain the modes.                                                                                                                                                                                                                                                                                                        \n",
    "\n",
    "    The output is a DataFrame with a record per group that has at least                                                                                                                                                                                                                                                                                              \n",
    "    one mode (null values are not counted). The `key_cols` are included as                                                                                                                                                                                                                                                                                           \n",
    "    columns, `value_col` contains lists indicating the modes for each group,                                                                                                                                                                                                                                                                                         \n",
    "    and `count_col` indicates how many times each mode appeared in its group.                                                                                                                                                                                                                                                                                        \n",
    "    '''\n",
    "    return df.groupby(key_cols + [value_col]).size() \\\n",
    "             .to_frame(count_col).reset_index() \\\n",
    "             .groupby(key_cols + [count_col])[value_col].unique() \\\n",
    "             .to_frame().reset_index() \\\n",
    "             .sort_values(count_col, ascending=False) \\\n",
    "             .drop_duplicates(subset=key_cols)\n",
    "            \n",
    "# mode(scale_test_input, ['key'], 'value', 'count')\n",
    "'''   key value  count\n",
    "1    1     B      2\n",
    "2    3     C      2'''\n",
    "\n",
    "# modes(scale_test_input, ['key'], 'value', 'count')\n",
    "'''   key  count   value\n",
    "1    1      2     [B]\n",
    "2    3      2  [C, D]'''"
   ]
  }
 ],
 "metadata": {
  "kernelspec": {
   "display_name": "Python 3",
   "language": "python",
   "name": "python3"
  },
  "language_info": {
   "codemirror_mode": {
    "name": "ipython",
    "version": 3
   },
   "file_extension": ".py",
   "mimetype": "text/x-python",
   "name": "python",
   "nbconvert_exporter": "python",
   "pygments_lexer": "ipython3",
   "version": "3.6.1"
  }
 },
 "nbformat": 4,
 "nbformat_minor": 2
}
